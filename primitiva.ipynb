{
 "cells": [
  {
   "attachments": {},
   "cell_type": "markdown",
   "metadata": {},
   "source": [
    "# Importación de librerías"
   ]
  },
  {
   "cell_type": "code",
   "execution_count": null,
   "metadata": {},
   "outputs": [],
   "source": [
    "import numpy as np\n",
    "import pandas as pd\n",
    "import random as rd\n",
    "import matplotlib.pyplot as plt\n",
    "from IPython.display import clear_output\n",
    "import time"
   ]
  },
  {
   "attachments": {},
   "cell_type": "markdown",
   "metadata": {},
   "source": [
    "# Funciones"
   ]
  },
  {
   "attachments": {},
   "cell_type": "markdown",
   "metadata": {},
   "source": [
    "### Función para generar nuevos boletos aleatorios"
   ]
  },
  {
   "cell_type": "code",
   "execution_count": null,
   "metadata": {},
   "outputs": [],
   "source": [
    "def randomgen():\n",
    "\n",
    "    numero = rd.sample(range(1,50),7)\n",
    "    complementario = rd.sample(numero,1)\n",
    "    numero.remove(complementario[0])\n",
    "    reintegro = rd.sample(range(10),1)\n",
    "    \n",
    "    numero.sort()\n",
    "\n",
    "    combo = {}\n",
    "    combo['numero'] = numero\n",
    "    combo['reintegro'] = reintegro\n",
    "\n",
    "    return combo"
   ]
  },
  {
   "attachments": {},
   "cell_type": "markdown",
   "metadata": {},
   "source": [
    "### Función para generar nuevos boletos teniendo en cuenta la distribución de la muestra histórica"
   ]
  },
  {
   "cell_type": "code",
   "execution_count": null,
   "metadata": {},
   "outputs": [],
   "source": [
    "def frequencygen(df, exp=3):\n",
    "    #obtengo las números sacados en orden cronológico\n",
    "    tiradas = []\n",
    "    for row in df.index:\n",
    "        for n in df.loc[row,'1':'6']:\n",
    "            tiradas.append(n)\n",
    "    tiradas = pd.Series(tiradas)\n",
    "\n",
    "    #obtengo la frecuencia de muestreo de cada número\n",
    "    freqs = tiradas.value_counts()\n",
    "    #si algún número no ha salido en la muestra, lo añado\n",
    "    for i in range(1,50):\n",
    "        if not i in freqs.index:\n",
    "            freqs[i] = 0\n",
    "    #los ordeno por el índice\n",
    "    freqs = freqs.sort_index()\n",
    "\n",
    "    #obtengo la desviación de la frecuencia de cada número respecto a la frecuencia media\n",
    "    desviacion = freqs-freqs.mean()\n",
    "    #invierto la frecuencia para que esté en el signo correcto\n",
    "    i_desviacion = -desviacion\n",
    "    #obtengo la probabilidad histórica de cada número, y genero una lista con tantas repeticiones por número como probabilidades tenga\n",
    "    probs = (i_desviacion/len(tiradas))/2\n",
    "    probs *= np.pi\n",
    "    probs = np.tan(probs)\n",
    "    adding = np.round((np.abs(probs)**(1/exp))*(probs/np.abs(probs))*100,0).fillna(0)\n",
    "\n",
    "    #esta es la lista\n",
    "    ruleta = []\n",
    "    for i in range(1, 50):\n",
    "        ns = int(100 + adding[i])\n",
    "        for n in range(ns):\n",
    "            ruleta.append(i)\n",
    "\n",
    "    #obtengo una combinación eligiendo números aleatorios de la lista\n",
    "    numeros = []\n",
    "    for i in range(6):\n",
    "        numeros.append(rd.sample(ruleta, 1)[0])\n",
    "        indexes = np.where(np.array(ruleta)==numeros[-1])[0].tolist()\n",
    "        ruleta = ruleta[:indexes[0]] + ruleta[(indexes[-1]+1):]\n",
    "    numeros.sort()\n",
    "\n",
    "    #obtengo las frecuencias históricas de los reintegros y añado los que no hayan salido en el histórico\n",
    "    freqs = df.loc[:,'R'].value_counts()\n",
    "    for i in range(10):\n",
    "        if not i in freqs.index:\n",
    "            freqs[i] = 0\n",
    "    freqs = freqs.sort_index()\n",
    "    #obtengo la desviación de la frecuencia de cada número con respecto a la frecuencia media\n",
    "    desviacion = freqs-freqs.mean()\n",
    "    #lo invierto para que esté bien el signo\n",
    "    i_desviacion = -desviacion\n",
    "\n",
    "    #obtengo la probabilidad de cada número, y genero una lista con tantas repeticiones del número como probabilidades tenga\n",
    "    probs = (i_desviacion/len(df.loc[:,'R']))/2\n",
    "    probs *= np.pi\n",
    "    probs = np.tan(probs)\n",
    "    adding = np.round((np.abs(probs)**(1/exp))*(probs/np.abs(probs))*100,0).fillna(0)\n",
    "\n",
    "    #esta es la lista\n",
    "    ruleta = []\n",
    "    for i in range(10):\n",
    "        ns = int(100 + adding[i])\n",
    "        for n in range(ns):\n",
    "            ruleta.append(i)\n",
    "\n",
    "    #escojo un número aleatorio de la lista generada\n",
    "    reintegro = rd.sample(ruleta, 1)\n",
    "\n",
    "    #genero la respuesta de la función\n",
    "    boleto = {\n",
    "        'numero':numeros,\n",
    "        'reintegro':reintegro\n",
    "    }\n",
    "\n",
    "    return boleto"
   ]
  },
  {
   "attachments": {},
   "cell_type": "markdown",
   "metadata": {},
   "source": [
    "### Función de comprobación del premio dado un boleto y la combinación ganadora"
   ]
  },
  {
   "cell_type": "code",
   "execution_count": null,
   "metadata": {},
   "outputs": [],
   "source": [
    "def check_primitiva(boleto, sorteo):\n",
    "\n",
    "    n_match = 0\n",
    "    for n in boleto['numero']:\n",
    "        if n in sorteo['numero']:\n",
    "            n_match+=1\n",
    "\n",
    "    r_match = boleto['reintegro'] == sorteo['reintegro']\n",
    "\n",
    "    premio = '0'\n",
    "\n",
    "    if n_match == 6 and r_match:\n",
    "        premio = 'E'\n",
    "    elif n_match == 6:\n",
    "        premio = '1'\n",
    "    elif n_match == 5 and sorteo['complementario'][0] in boleto['numero']:\n",
    "        premio = '2'\n",
    "    elif n_match == 5:\n",
    "        premio = '3'\n",
    "    elif n_match == 4:\n",
    "        premio = '4'\n",
    "    elif n_match == 3:\n",
    "        premio == '5'\n",
    "    elif r_match:\n",
    "        premio = 'R'\n",
    "\n",
    "    return premio"
   ]
  },
  {
   "attachments": {},
   "cell_type": "markdown",
   "metadata": {},
   "source": [
    "# Simulación"
   ]
  },
  {
   "attachments": {},
   "cell_type": "markdown",
   "metadata": {},
   "source": [
    "### Obtención de datos históricos de la primitiva y homogeneización"
   ]
  },
  {
   "cell_type": "code",
   "execution_count": null,
   "metadata": {},
   "outputs": [],
   "source": [
    "path13_22='https://docs.google.com/spreadsheets/d/e/2PACX-1vTov1BuA0nkVGTS48arpPFkc9cG7B40Xi3BfY6iqcWTrMwCBg5b50-WwvnvaR6mxvFHbDBtYFKg5IsJ/pub?gid=1&single=true&output=csv'\n",
    "path85_12='https://docs.google.com/spreadsheets/d/e/2PACX-1vTov1BuA0nkVGTS48arpPFkc9cG7B40Xi3BfY6iqcWTrMwCBg5b50-WwvnvaR6mxvFHbDBtYFKg5IsJ/pub?gid=0&single=true&output=csv'\n",
    "\n",
    "file2 = pd.read_csv(path13_22)\n",
    "file2 = file2.set_index('FECHA')\n",
    "file2 = file2.iloc[:,:-1]\n",
    "file2.columns = ['1','2','3','4','5','6','C','R']\n",
    "\n",
    "file1 = pd.read_csv(path85_12)\n",
    "file1 = file1.set_index('FECHA')\n",
    "file1 = file1.iloc[:,:-1]\n",
    "file1.columns = ['1','2','3','4','5','6','C','R']\n",
    "file1 = file1.iloc[:-310]\n",
    "\n",
    "file = pd.concat([file2, file1])"
   ]
  },
  {
   "cell_type": "code",
   "execution_count": null,
   "metadata": {},
   "outputs": [],
   "source": [
    "file.head()"
   ]
  },
  {
   "attachments": {},
   "cell_type": "markdown",
   "metadata": {},
   "source": [
    "### Simulación Aleatorio vs. Javi"
   ]
  },
  {
   "cell_type": "code",
   "execution_count": null,
   "metadata": {},
   "outputs": [],
   "source": [
    "#variables optimizables\n",
    "long_muestra = 1000\n",
    "exponente = 3\n",
    "\n",
    "resultados_aleatorio = []\n",
    "resultados_javi = []\n",
    "\n",
    "n_sims = 1000\n",
    "for i in range(n_sims):\n",
    "    inicio = np.random.randint(0,(file.shape[0] - long_muestra + 1))\n",
    "    fin = inicio + long_muestra\n",
    "\n",
    "    muestra = file[inicio:fin]\n",
    "    boleto_random = randomgen()\n",
    "    boleto_javi = frequencygen(muestra, exponente)\n",
    "    ganador = {\n",
    "        'numero':[int(i) for i in file.iloc[fin][:6]],\n",
    "        'reintegro':[int(file.iloc[fin][7])],\n",
    "        'complementario':[int(file.iloc[fin][6])]\n",
    "    }\n",
    "\n",
    "    resultados_aleatorio.append(check_primitiva(boleto_random, ganador))\n",
    "    resultados_javi.append(check_primitiva(boleto_javi, ganador))\n",
    "\n",
    "print('Boleto aleatorio')\n",
    "print(pd.Series(resultados_aleatorio).value_counts())\n",
    "print('-----------------')\n",
    "print('Boleto de Javi')\n",
    "print(pd.Series(resultados_javi).value_counts())"
   ]
  },
  {
   "attachments": {},
   "cell_type": "markdown",
   "metadata": {},
   "source": [
    "### Cuánto dinero se ha ganado"
   ]
  },
  {
   "cell_type": "code",
   "execution_count": null,
   "metadata": {},
   "outputs": [],
   "source": [
    "#pendiente\n",
    "categorias = ['0','R','5','4','3','2','1','E']\n",
    "premios = {\n",
    "    '0':0,\n",
    "    'R':1,\n",
    "    '5':8,\n",
    "    '4':30,\n",
    "    '3':1_050,\n",
    "    '2':50_000,\n",
    "    '1':1_300_000,\n",
    "    'E':24_500_000\n",
    "}\n",
    "premios = pd.Series(premios)"
   ]
  }
 ],
 "metadata": {
  "kernelspec": {
   "display_name": "Python 3",
   "language": "python",
   "name": "python3"
  },
  "language_info": {
   "codemirror_mode": {
    "name": "ipython",
    "version": 3
   },
   "file_extension": ".py",
   "mimetype": "text/x-python",
   "name": "python",
   "nbconvert_exporter": "python",
   "pygments_lexer": "ipython3",
   "version": "3.10.6"
  },
  "orig_nbformat": 4,
  "vscode": {
   "interpreter": {
    "hash": "42b7a8269543bcb579cd7b7725932418ba11ca9773c942937c2bd4311fe78df7"
   }
  }
 },
 "nbformat": 4,
 "nbformat_minor": 2
}
